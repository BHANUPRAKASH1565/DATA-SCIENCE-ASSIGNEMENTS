{
 "cells": [
  {
   "cell_type": "code",
   "execution_count": 1,
   "id": "0781fc56",
   "metadata": {},
   "outputs": [
    {
     "name": "stdout",
     "output_type": "stream",
     "text": [
      "Anova ftest statistics: F = 118.70421654401437, p-value = 2.1156708949992414e-57\n",
      "Inference: Reject Null Hypothesis\n",
      "Conclusion: At least one sample TAT population mean is different.\n",
      "There is variance or difference in average Turn Around Time (TAT) of reports of the laboratories on their preferred list.\n"
     ]
    }
   ],
   "source": [
    " import pandas as pd\n",
    "from scipy import stats\n",
    "data=pd.read_csv(\"C:\\\\Users\\\\bhanu\\\\OneDrive\\\\Desktop\\\\ass\\\\LabTAT.csv\")\n",
    "f_statistic, p_value = stats.f_oneway(data['Laboratory 1'], data['Laboratory 2'], data['Laboratory 3'], data['Laboratory 4'])\n",
    "print(f\"Anova ftest statistics: F = {f_statistic}, p-value = {p_value}\")\n",
    "alpha = 0.05\n",
    "if p_value < alpha:\n",
    "    print(\"Inference: Reject Null Hypothesis\")\n",
    "    print(\"Conclusion: At least one sample TAT population mean is different.\")\n",
    "    print(\"There is variance or difference in average Turn Around Time (TAT) of reports of the laboratories on their preferred list.\")\n",
    "else:\n",
    "    print(\"Inference: Fail to reject Null Hypothesis\")\n",
    "    print(\"Conclusion: There is no sufficient evidence to conclude a difference in average Turn Around Time (TAT) among the laboratories.\")\n"
   ]
  },
  {
   "cell_type": "code",
   "execution_count": null,
   "id": "4b4633ff",
   "metadata": {},
   "outputs": [],
   "source": []
  }
 ],
 "metadata": {
  "kernelspec": {
   "display_name": "Python 3 (ipykernel)",
   "language": "python",
   "name": "python3"
  },
  "language_info": {
   "codemirror_mode": {
    "name": "ipython",
    "version": 3
   },
   "file_extension": ".py",
   "mimetype": "text/x-python",
   "name": "python",
   "nbconvert_exporter": "python",
   "pygments_lexer": "ipython3",
   "version": "3.11.5"
  }
 },
 "nbformat": 4,
 "nbformat_minor": 5
}
