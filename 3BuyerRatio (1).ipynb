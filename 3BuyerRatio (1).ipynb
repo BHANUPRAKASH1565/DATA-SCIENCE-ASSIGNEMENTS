{
 "cells": [
  {
   "cell_type": "code",
   "execution_count": 1,
   "id": "3936cd70",
   "metadata": {},
   "outputs": [
    {
     "name": "stdout",
     "output_type": "stream",
     "text": [
      "P-value: 0.6603094907091882\n",
      "Critical value: 7.814727903251179\n",
      "Not all proportions are equal\n"
     ]
    }
   ],
   "source": [
    "import pandas as pd\n",
    "from scipy import stats\n",
    "from scipy.stats import chi2\n",
    "df = pd.read_csv(\"C:\\\\Users\\\\bhanu\\\\OneDrive\\\\Desktop\\\\ass\\\\BuyerRatio.csv\")\n",
    "df_table = df.iloc[:, 1:6]\n",
    "chi2_stat, p_value, dof, expected_value = stats.chi2_contingency(df_table.values)\n",
    "print(f\"P-value: {p_value}\")\n",
    "critical_value = chi2.ppf(0.95, dof)\n",
    "print(f\"Critical value: {critical_value}\")\n",
    "p_value_chi2 = 1 - chi2.cdf(chi2_stat, dof)\n",
    "if p_value_chi2 <= 0.05:\n",
    "    print('All proportions are equal')\n",
    "else:\n",
    "    print('Not all proportions are equal')\n"
   ]
  },
  {
   "cell_type": "code",
   "execution_count": null,
   "id": "6532e005",
   "metadata": {},
   "outputs": [],
   "source": []
  }
 ],
 "metadata": {
  "kernelspec": {
   "display_name": "Python 3 (ipykernel)",
   "language": "python",
   "name": "python3"
  },
  "language_info": {
   "codemirror_mode": {
    "name": "ipython",
    "version": 3
   },
   "file_extension": ".py",
   "mimetype": "text/x-python",
   "name": "python",
   "nbconvert_exporter": "python",
   "pygments_lexer": "ipython3",
   "version": "3.11.5"
  }
 },
 "nbformat": 4,
 "nbformat_minor": 5
}
